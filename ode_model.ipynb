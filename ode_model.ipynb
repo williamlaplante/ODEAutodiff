{
 "cells": [
  {
   "cell_type": "code",
   "execution_count": 3,
   "metadata": {},
   "outputs": [],
   "source": [
    "import matplotlib.pyplot as plt\n",
    "import torch as tc\n",
    "from torchdiffeq import odeint\n",
    "from torch import nn\n"
   ]
  },
  {
   "cell_type": "code",
   "execution_count": 7,
   "metadata": {},
   "outputs": [],
   "source": [
    "tmin = 0\n",
    "tmax = 200 #days\n",
    "\n",
    "tspan = tc.arange(tmin, tmax).float()\n",
    "\n",
    "N = 10**6\n",
    "I0 = 1\n",
    "R0 = 0\n",
    "S0 = N - I0 - R0\n",
    "\n",
    "y0 = tc.tensor([S0, I0, R0, N]).float()"
   ]
  },
  {
   "cell_type": "code",
   "execution_count": 11,
   "metadata": {},
   "outputs": [],
   "source": [
    "class ODE(nn.Module):\n",
    "\n",
    "    def __init__(self, init_params, y0):\n",
    "        super(ODE, self).__init__()\n",
    "        self.init_params = init_params\n",
    "        self.y0 = y0\n",
    "        self.params = nn.Parameter(init_params)\n",
    "\n",
    "    def forward(self, t, y):\n",
    "        S, I, R, N = y\n",
    "\n",
    "        dS = - self.params[0] * S * I / N\n",
    "        dI = self.params[0] * S * I / N - self.params[1] * I\n",
    "        dR = self.params[1] * I\n",
    "        dN = tc.tensor(0.0)\n",
    "\n",
    "        return tc.stack([dS, dI, dR, dN])"
   ]
  },
  {
   "cell_type": "code",
   "execution_count": 35,
   "metadata": {},
   "outputs": [],
   "source": [
    "def simulate_data(model, params, y0, tspan):\n",
    "    f = model(init_params=params, y0=y0)\n",
    "    with tc.no_grad():\n",
    "        S, I, R, N = odeint(f, y0, tspan).T\n",
    "        S = tc.distributions.Poisson(S).sample()\n",
    "        I = tc.distributions.Poisson(I).sample()\n",
    "        R = tc.distributions.Poisson(R).sample()\n",
    "\n",
    "        data = tc.distributions.Poisson(f.params[0] * S * I / N).sample()\n",
    "    return data"
   ]
  },
  {
   "cell_type": "code",
   "execution_count": 36,
   "metadata": {},
   "outputs": [
    {
     "data": {
      "text/plain": [
       "[<matplotlib.lines.Line2D at 0x7f8878fdb430>]"
      ]
     },
     "execution_count": 36,
     "metadata": {},
     "output_type": "execute_result"
    },
    {
     "data": {
      "image/png": "[encoded data removed]",
      "text/plain": [
       "<Figure size 432x288 with 1 Axes>"
      ]
     },
     "metadata": {
      "needs_background": "light"
     },
     "output_type": "display_data"
    }
   ],
   "source": [
    "data = simulate_data(ODE, tc.tensor([0.2, 0.1]), y0, tspan)\n",
    "plt.plot(data, '.', markersize=3)"
   ]
  },
  {
   "cell_type": "code",
   "execution_count": 38,
   "metadata": {},
   "outputs": [],
   "source": [
    "def likelihood(func, data, y0, t):\n",
    "    S, I, R, _ = odeint(func, y0, t).T\n",
    "\n",
    "    pred = func.params[0] * S * I / y0[-1]\n",
    "\n",
    "    return (1/y0[-1]) * (pred.mean() - (1/len(t)) * tc.dot(pred.log(), data))\n"
   ]
  },
  {
   "cell_type": "code",
   "execution_count": 41,
   "metadata": {},
   "outputs": [
    {
     "name": "stdout",
     "output_type": "stream",
     "text": [
      "Loss : -0.0030342712998390198 , Params : tensor([0.5000, 0.3000]), Grad : tensor([ 0.2777, -0.2374]) \n",
      "Loss : -0.010902133770287037 , Params : tensor([0.4761, 0.3040]), Grad : tensor([ 0.2957, -0.2644]) \n",
      "Loss : -0.023798463866114616 , Params : tensor([0.4431, 0.3147]), Grad : tensor([ 0.2929, -0.2729]) \n",
      "Loss : -0.021817071363329887 , Params : tensor([0.3950, 0.3443]), Grad : tensor([-0.4327,  0.4245]) \n",
      "Loss : -0.02822980098426342 , Params : tensor([0.4179, 0.3052]), Grad : tensor([ 0.2394, -0.2235]) \n",
      "Loss : -0.02838200144469738 , Params : tensor([0.4108, 0.2983]), Grad : tensor([ 0.2362, -0.2204]) \n",
      "Loss : -0.031494442373514175 , Params : tensor([0.3921, 0.3043]), Grad : tensor([-0.0222,  0.0264]) \n",
      "Loss : -0.030243555083870888 , Params : tensor([0.3805, 0.3039]), Grad : tensor([-0.2004,  0.1977]) \n",
      "Loss : -0.030813846737146378 , Params : tensor([0.3763, 0.2964]), Grad : tensor([-0.1535,  0.1525]) \n",
      "Loss : -0.03146246820688248 , Params : tensor([0.3735, 0.2877]), Grad : tensor([-0.0643,  0.0666]) \n",
      "Loss : -0.03162883222103119 , Params : tensor([0.3696, 0.2800]), Grad : tensor([-0.0102,  0.0147]) \n",
      "Loss : -0.03166165575385094 , Params : tensor([0.3646, 0.2734]), Grad : tensor([ 0.0098, -0.0045]) \n",
      "Loss : -0.03169004246592522 , Params : tensor([0.3588, 0.2672]), Grad : tensor([ 0.0117, -0.0064]) \n",
      "Loss : -0.03172233700752258 , Params : tensor([0.3527, 0.2612]), Grad : tensor([ 0.0054, -0.0004]) \n",
      "Loss : -0.03175121173262596 , Params : tensor([0.3463, 0.2552]), Grad : tensor([-0.0038,  0.0084]) \n",
      "Loss : -0.03177516162395477 , Params : tensor([0.3399, 0.2491]), Grad : tensor([-0.0125,  0.0165]) \n",
      "Loss : -0.03179978206753731 , Params : tensor([0.3334, 0.2427]), Grad : tensor([-0.0172,  0.0210]) \n",
      "Loss : -0.03183171898126602 , Params : tensor([0.3272, 0.2360]), Grad : tensor([-0.0156,  0.0193]) \n",
      "Loss : -0.03186864033341408 , Params : tensor([0.3210, 0.2290]), Grad : tensor([-0.0077,  0.0117]) \n",
      "Loss : -0.031901054084300995 , Params : tensor([0.3149, 0.2218]), Grad : tensor([0.0025, 0.0019]) \n",
      "Loss : -0.03192796930670738 , Params : tensor([0.3086, 0.2148]), Grad : tensor([ 0.0088, -0.0043]) \n",
      "Loss : -0.03195599839091301 , Params : tensor([0.3021, 0.2080]), Grad : tensor([ 0.0079, -0.0035]) \n",
      "Loss : -0.03198382258415222 , Params : tensor([0.2954, 0.2014]), Grad : tensor([0.0021, 0.0018]) \n",
      "Loss : -0.03200884163379669 , Params : tensor([0.2889, 0.1947]), Grad : tensor([-0.0017,  0.0053]) \n",
      "Loss : -0.032033294439315796 , Params : tensor([0.2826, 0.1879]), Grad : tensor([7.7341e-05, 3.4443e-03]) \n",
      "Loss : -0.032055918127298355 , Params : tensor([0.2765, 0.1812]), Grad : tensor([0.0034, 0.0002]) \n",
      "Loss : -0.03207693248987198 , Params : tensor([0.2703, 0.1748]), Grad : tensor([0.0030, 0.0004]) \n",
      "Loss : -0.03209622576832771 , Params : tensor([0.2643, 0.1686]), Grad : tensor([0.0006, 0.0024]) \n",
      "Loss : -0.0321136973798275 , Params : tensor([0.2586, 0.1625]), Grad : tensor([0.0007, 0.0021]) \n",
      "Loss : -0.032129332423210144 , Params : tensor([0.2532, 0.1566]), Grad : tensor([0.0020, 0.0007]) \n",
      "Loss : -0.032143156975507736 , Params : tensor([0.2479, 0.1511]), Grad : tensor([0.0014, 0.0010]) \n",
      "Loss : -0.03215517848730087 , Params : tensor([0.2429, 0.1458]), Grad : tensor([0.0006, 0.0016]) \n",
      "Loss : -0.032165516167879105 , Params : tensor([0.2382, 0.1408]), Grad : tensor([0.0012, 0.0009]) \n",
      "Loss : -0.032174255698919296 , Params : tensor([0.2338, 0.1361]), Grad : tensor([0.0011, 0.0008]) \n",
      "Loss : -0.03218153119087219 , Params : tensor([0.2297, 0.1318]), Grad : tensor([0.0006, 0.0010]) \n",
      "Loss : -0.03218749910593033 , Params : tensor([0.2260, 0.1278]), Grad : tensor([0.0008, 0.0006]) \n",
      "Loss : -0.03219232335686684 , Params : tensor([0.2226, 0.1242]), Grad : tensor([0.0007, 0.0006]) \n",
      "Loss : -0.032196152955293655 , Params : tensor([0.2195, 0.1209]), Grad : tensor([0.0005, 0.0006]) \n",
      "Loss : -0.032199155539274216 , Params : tensor([0.2167, 0.1179]), Grad : tensor([0.0006, 0.0004]) \n",
      "Loss : -0.03220146894454956 , Params : tensor([0.2142, 0.1153]), Grad : tensor([0.0004, 0.0005]) \n",
      "Loss : -0.032203223556280136 , Params : tensor([0.2120, 0.1129]), Grad : tensor([0.0004, 0.0003]) \n",
      "Loss : -0.03220454230904579 , Params : tensor([0.2101, 0.1109]), Grad : tensor([0.0003, 0.0003]) \n",
      "Loss : -0.03220551088452339 , Params : tensor([0.2084, 0.1091]), Grad : tensor([0.0002, 0.0003]) \n",
      "Loss : -0.0322062149643898 , Params : tensor([0.2070, 0.1075]), Grad : tensor([0.0002, 0.0002]) \n",
      "Loss : -0.03220672532916069 , Params : tensor([0.2057, 0.1062]), Grad : tensor([0.0002, 0.0002]) \n",
      "Loss : -0.03220708295702934 , Params : tensor([0.2046, 0.1050]), Grad : tensor([0.0002, 0.0001]) \n",
      "Loss : -0.03220733627676964 , Params : tensor([0.2037, 0.1040]), Grad : tensor([0.0001, 0.0001]) \n",
      "Loss : -0.03220750764012337 , Params : tensor([0.2029, 0.1032]), Grad : tensor([1.0388e-04, 9.0822e-05]) \n",
      "Loss : -0.03220761939883232 , Params : tensor([0.2023, 0.1025]), Grad : tensor([7.3939e-05, 8.2692e-05]) \n",
      "Loss : -0.03220769762992859 , Params : tensor([0.2018, 0.1019]), Grad : tensor([6.4413e-05, 6.1521e-05]) \n",
      "Loss : -0.03220774978399277 , Params : tensor([0.2013, 0.1015]), Grad : tensor([4.9449e-05, 5.0644e-05]) \n",
      "Loss : -0.032207783311605453 , Params : tensor([0.2010, 0.1011]), Grad : tensor([3.7999e-05, 4.0952e-05]) \n",
      "Loss : -0.03220780938863754 , Params : tensor([0.2007, 0.1008]), Grad : tensor([3.4060e-05, 2.8028e-05]) \n",
      "Loss : -0.03220781683921814 , Params : tensor([0.2004, 0.1005]), Grad : tensor([2.0663e-05, 2.7130e-05]) \n",
      "Loss : -0.032207828015089035 , Params : tensor([0.2002, 0.1003]), Grad : tensor([1.7687e-05, 1.9154e-05]) \n",
      "Loss : -0.03220783546566963 , Params : tensor([0.2001, 0.1002]), Grad : tensor([1.3502e-05, 1.4501e-05]) \n",
      "Loss : -0.03220783919095993 , Params : tensor([0.2000, 0.1000]), Grad : tensor([9.3703e-06, 1.1614e-05]) \n",
      "Loss : -0.03220783546566963 , Params : tensor([0.1999, 0.0999]), Grad : tensor([9.6746e-06, 6.0610e-06]) \n"
     ]
    }
   ],
   "source": [
    "func = ODE(init_params = tc.tensor([0.5, 0.3]), y0=y0)\n",
    "\n",
    "optimizer = tc.optim.Adam(func.parameters(), lr=1e-1)\n",
    "\n",
    "losses = []\n",
    "tol = 1e-5\n",
    "g = tc.tensor(1.0)\n",
    "i = 0\n",
    "while g > tol:\n",
    "    optimizer.zero_grad()\n",
    "    l = likelihood(func, data, y0, tspan)\n",
    "    \n",
    "    l.backward()\n",
    "    if i%5==0 : print(\"Loss : {} , Params : {}, Grad : {} \".format(l, func.params.clone().detach(), func.params.grad))\n",
    "    optimizer.step()\n",
    "    g = func.params.grad.square().sum().sqrt()\n",
    "    losses.append(l.clone().detach())\n",
    "    i+=1"
   ]
  },
  {
   "cell_type": "code",
   "execution_count": 44,
   "metadata": {},
   "outputs": [
    {
     "data": {
      "text/plain": [
       "[<matplotlib.lines.Line2D at 0x7f88999ee2b0>]"
      ]
     },
     "execution_count": 44,
     "metadata": {},
     "output_type": "execute_result"
    },
    {
     "data": {
      "image/png": "[encoded data removed]",
      "text/plain": [
       "<Figure size 432x288 with 1 Axes>"
      ]
     },
     "metadata": {
      "needs_background": "light"
     },
     "output_type": "display_data"
    }
   ],
   "source": [
    "plt.plot(losses[50:])"
   ]
  },
  {
   "cell_type": "code",
   "execution_count": 43,
   "metadata": {},
   "outputs": [
    {
     "data": {
      "text/plain": [
       "[<matplotlib.lines.Line2D at 0x7f8881471400>]"
      ]
     },
     "execution_count": 43,
     "metadata": {},
     "output_type": "execute_result"
    },
    {
     "data": {
      "image/png": "[encoded data removed]",
      "text/plain": [
       "<Figure size 432x288 with 1 Axes>"
      ]
     },
     "metadata": {
      "needs_background": "light"
     },
     "output_type": "display_data"
    }
   ],
   "source": [
    "S, I, R, _ = odeint(func, y0, tspan).T\n",
    "pred = func.params[0] * S * I / y0[-1]\n",
    "plt.plot(pred.detach())\n",
    "plt.plot(data.clone().detach(), '.', alpha=0.3)"
   ]
  },
  {
   "cell_type": "code",
   "execution_count": null,
   "metadata": {},
   "outputs": [],
   "source": []
  }
 ],
 "metadata": {
  "kernelspec": {
   "display_name": "Python 3.9.7 64-bit",
   "language": "python",
   "name": "python3"
  },
  "language_info": {
   "codemirror_mode": {
    "name": "ipython",
    "version": 3
   },
   "file_extension": ".py",
   "mimetype": "text/x-python",
   "name": "python",
   "nbconvert_exporter": "python",
   "pygments_lexer": "ipython3",
   "version": "3.9.7"
  },
  "orig_nbformat": 4,
  "vscode": {
   "interpreter": {
    "hash": "aee8b7b246df8f9039afb4144a1f6fd8d2ca17a180786b69acc140d282b71a49"
   }
  }
 },
 "nbformat": 4,
 "nbformat_minor": 2
}
