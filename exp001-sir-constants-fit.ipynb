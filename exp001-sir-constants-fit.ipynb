{
 "cells": [
  {
   "cell_type": "code",
   "execution_count": 4,
   "metadata": {},
   "outputs": [],
   "source": [
    "import matplotlib.pyplot as plt\n",
    "import torch as tc\n",
    "from torchdiffeq import odeint\n",
    "from torch import nn"
   ]
  },
  {
   "cell_type": "code",
   "execution_count": 5,
   "metadata": {},
   "outputs": [],
   "source": [
    "tmin = 0\n",
    "tmax = 200 #days\n",
    "\n",
    "tspan = tc.arange(tmin, tmax).float()\n",
    "\n",
    "N = 10**6\n",
    "I0 = 1\n",
    "R0 = 0\n",
    "S0 = N - I0 - R0\n",
    "\n",
    "y0 = tc.tensor([S0, I0, R0, N]).float()"
   ]
  },
  {
   "cell_type": "code",
   "execution_count": 17,
   "metadata": {},
   "outputs": [],
   "source": [
    "class ODE(nn.Module):\n",
    "\n",
    "    def __init__(self, init_params, y0):\n",
    "        super(ODE, self).__init__()\n",
    "        self.init_params = init_params\n",
    "        self.y0 = y0\n",
    "        self.params = nn.Parameter(init_params)\n",
    "\n",
    "    def forward(self, t, y):\n",
    "        S, I, R, N = y\n",
    "\n",
    "        dS = - self.params[0] * S * I / N\n",
    "        dI = self.params[0] * S * I / N - self.params[1] * I\n",
    "        dR = self.params[1] * I\n",
    "        dN = tc.tensor(0.0)\n",
    "\n",
    "        return tc.stack([dS, dI, dR, dN])"
   ]
  },
  {
   "cell_type": "code",
   "execution_count": 18,
   "metadata": {},
   "outputs": [],
   "source": [
    "def simulate_data(model, params, y0, tspan):\n",
    "    f = model(init_params=params, y0=y0)\n",
    "    with tc.no_grad():\n",
    "        S, I, R, N = odeint(f, y0, tspan).T\n",
    "        S = tc.distributions.Poisson(S).sample()\n",
    "        I = tc.distributions.Poisson(I).sample()\n",
    "        R = tc.distributions.Poisson(R).sample()\n",
    "\n",
    "        data = tc.distributions.Poisson(f.params[0] * S * I / N).sample()\n",
    "    return data"
   ]
  },
  {
   "cell_type": "code",
   "execution_count": 19,
   "metadata": {},
   "outputs": [
    {
     "data": {
      "text/plain": [
       "[<matplotlib.lines.Line2D at 0x7fc068930c70>]"
      ]
     },
     "execution_count": 19,
     "metadata": {},
     "output_type": "execute_result"
    },
    {
     "data": {
      "image/png": "[encoded data removed]",
      "text/plain": [
       "<Figure size 432x288 with 1 Axes>"
      ]
     },
     "metadata": {
      "needs_background": "light"
     },
     "output_type": "display_data"
    }
   ],
   "source": [
    "data = simulate_data(ODE, tc.tensor([0.2, 0.1]), y0, tspan)\n",
    "plt.plot(data, '.', markersize=3)"
   ]
  },
  {
   "cell_type": "code",
   "execution_count": 20,
   "metadata": {},
   "outputs": [],
   "source": [
    "def likelihood(func, data, y0, t):\n",
    "    S, I, R, _ = odeint(func, y0, t, method='euler').T\n",
    "\n",
    "    pred = func.params[0] * S * I / y0[-1]\n",
    "\n",
    "    return (1/y0[-1]) * (pred.mean() - (1/len(t)) * tc.dot(pred.log(), data))\n"
   ]
  },
  {
   "cell_type": "code",
   "execution_count": 21,
   "metadata": {},
   "outputs": [],
   "source": [
    "func = ODE(init_params = tc.tensor([0.5, 0.3]), y0=y0)\n"
   ]
  },
  {
   "cell_type": "code",
   "execution_count": 22,
   "metadata": {},
   "outputs": [
    {
     "name": "stdout",
     "output_type": "stream",
     "text": [
      "Loss : -0.0020960418041795492 , Params : tensor([0.5000, 0.3000]), Grad : tensor([ 0.3176, -0.2695]) \n",
      "Loss : -0.007476808037608862 , Params : tensor([0.4809, 0.2973]), Grad : tensor([ 0.3228, -0.2817]) \n",
      "Loss : -0.02929786406457424 , Params : tensor([0.4316, 0.3209]), Grad : tensor([ 0.2106, -0.1960]) \n",
      "Loss : -0.024280589073896408 , Params : tensor([0.3959, 0.3374]), Grad : tensor([-0.3713,  0.3633]) \n",
      "Loss : -0.0308226365596056 , Params : tensor([0.4099, 0.3070]), Grad : tensor([ 0.1318, -0.1211]) \n",
      "Loss : -0.028831271454691887 , Params : tensor([0.4089, 0.2942]), Grad : tensor([ 0.2279, -0.2117]) \n",
      "Loss : -0.03132360428571701 , Params : tensor([0.3950, 0.2956]), Grad : tensor([ 0.0836, -0.0751]) \n",
      "Loss : -0.031207874417304993 , Params : tensor([0.3823, 0.2965]), Grad : tensor([-0.1059,  0.1060]) \n",
      "Loss : -0.0309747327119112 , Params : tensor([0.3756, 0.2918]), Grad : tensor([-0.1367,  0.1355]) \n",
      "Loss : -0.03136257454752922 , Params : tensor([0.3717, 0.2844]), Grad : tensor([-0.0910,  0.0916]) \n",
      "Loss : -0.03161302208900452 , Params : tensor([0.3678, 0.2770]), Grad : tensor([-0.0437,  0.0462]) \n",
      "Loss : -0.03170012682676315 , Params : tensor([0.3632, 0.2702]), Grad : tensor([-0.0167,  0.0204]) \n",
      "Loss : -0.031736645847558975 , Params : tensor([0.3579, 0.2639]), Grad : tensor([-0.0063,  0.0104]) \n",
      "Loss : -0.031763751059770584 , Params : tensor([0.3522, 0.2578]), Grad : tensor([-0.0050,  0.0091]) \n",
      "Loss : -0.03178839385509491 , Params : tensor([0.3463, 0.2518]), Grad : tensor([-0.0079,  0.0118]) \n",
      "Loss : -0.03181163966655731 , Params : tensor([0.3403, 0.2457]), Grad : tensor([-0.0116,  0.0152]) \n",
      "Loss : -0.03183569386601448 , Params : tensor([0.3342, 0.2395]), Grad : tensor([-0.0136,  0.0171]) \n",
      "Loss : -0.031863003969192505 , Params : tensor([0.3282, 0.2330]), Grad : tensor([-0.0124,  0.0158]) \n",
      "Loss : -0.031892772763967514 , Params : tensor([0.3222, 0.2264]), Grad : tensor([-0.0074,  0.0109]) \n",
      "Loss : -0.031920675188302994 , Params : tensor([0.3163, 0.2197]), Grad : tensor([-0.0004,  0.0042]) \n",
      "Loss : -0.031944602727890015 , Params : tensor([0.3104, 0.2130]), Grad : tensor([ 0.0053, -0.0014]) \n",
      "Loss : -0.03196736052632332 , Params : tensor([0.3044, 0.2064]), Grad : tensor([ 0.0069, -0.0030]) \n",
      "Loss : -0.03199036419391632 , Params : tensor([0.2982, 0.2001]), Grad : tensor([ 0.0042, -0.0006]) \n",
      "Loss : -0.03201162442564964 , Params : tensor([0.2920, 0.1939]), Grad : tensor([0.0004, 0.0029]) \n",
      "Loss : -0.03203127905726433 , Params : tensor([0.2861, 0.1876]), Grad : tensor([-0.0008,  0.0039]) \n",
      "Loss : -0.03204990550875664 , Params : tensor([0.2804, 0.1814]), Grad : tensor([0.0010, 0.0019]) \n",
      "Loss : -0.03206680715084076 , Params : tensor([0.2748, 0.1754]), Grad : tensor([0.0027, 0.0002]) \n",
      "Loss : -0.03208228945732117 , Params : tensor([0.2693, 0.1696]), Grad : tensor([0.0020, 0.0007]) \n",
      "Loss : -0.03209617733955383 , Params : tensor([0.2640, 0.1640]), Grad : tensor([0.0005, 0.0019]) \n",
      "Loss : -0.03210853040218353 , Params : tensor([0.2590, 0.1587]), Grad : tensor([0.0007, 0.0015]) \n",
      "Loss : -0.03211936354637146 , Params : tensor([0.2542, 0.1535]), Grad : tensor([0.0015, 0.0006]) \n",
      "Loss : -0.03212875500321388 , Params : tensor([0.2497, 0.1487]), Grad : tensor([0.0011, 0.0008]) \n",
      "Loss : -0.03213677182793617 , Params : tensor([0.2455, 0.1442]), Grad : tensor([0.0006, 0.0012]) \n",
      "Loss : -0.03214354068040848 , Params : tensor([0.2415, 0.1400]), Grad : tensor([0.0008, 0.0008]) \n",
      "Loss : -0.03214915469288826 , Params : tensor([0.2379, 0.1361]), Grad : tensor([0.0009, 0.0006]) \n",
      "Loss : -0.03215375915169716 , Params : tensor([0.2345, 0.1325]), Grad : tensor([0.0005, 0.0007]) \n",
      "Loss : -0.03215748071670532 , Params : tensor([0.2314, 0.1292]), Grad : tensor([0.0005, 0.0006]) \n",
      "Loss : -0.0321604385972023 , Params : tensor([0.2286, 0.1262]), Grad : tensor([0.0005, 0.0004]) \n",
      "Loss : -0.03216277062892914 , Params : tensor([0.2261, 0.1235]), Grad : tensor([0.0003, 0.0005]) \n",
      "Loss : -0.032164569944143295 , Params : tensor([0.2239, 0.1211]), Grad : tensor([0.0004, 0.0003]) \n",
      "Loss : -0.032165948301553726 , Params : tensor([0.2219, 0.1190]), Grad : tensor([0.0003, 0.0003]) \n",
      "Loss : -0.032166987657547 , Params : tensor([0.2202, 0.1171]), Grad : tensor([0.0002, 0.0003]) \n",
      "Loss : -0.03216775879263878 , Params : tensor([0.2186, 0.1155]), Grad : tensor([0.0002, 0.0002]) \n",
      "Loss : -0.032168325036764145 , Params : tensor([0.2173, 0.1140]), Grad : tensor([0.0002, 0.0002]) \n",
      "Loss : -0.032168734818696976 , Params : tensor([0.2162, 0.1128]), Grad : tensor([0.0002, 0.0001]) \n",
      "Loss : -0.032169025391340256 , Params : tensor([0.2152, 0.1117]), Grad : tensor([0.0001, 0.0001]) \n",
      "Loss : -0.03216923400759697 , Params : tensor([0.2143, 0.1108]), Grad : tensor([0.0001, 0.0001]) \n",
      "Loss : -0.03216937929391861 , Params : tensor([0.2136, 0.1101]), Grad : tensor([8.7368e-05, 8.8200e-05]) \n",
      "Loss : -0.03216947987675667 , Params : tensor([0.2130, 0.1094]), Grad : tensor([7.0838e-05, 7.2052e-05]) \n",
      "Loss : -0.03216954320669174 , Params : tensor([0.2125, 0.1089]), Grad : tensor([5.7016e-05, 5.8495e-05]) \n",
      "Loss : -0.032169587910175323 , Params : tensor([0.2121, 0.1084]), Grad : tensor([4.5736e-05, 4.6985e-05]) \n",
      "Loss : -0.03216962143778801 , Params : tensor([0.2117, 0.1081]), Grad : tensor([3.6817e-05, 3.7105e-05]) \n",
      "Loss : -0.0321696400642395 , Params : tensor([0.2115, 0.1078]), Grad : tensor([2.9075e-05, 2.9367e-05]) \n",
      "Loss : -0.0321696512401104 , Params : tensor([0.2112, 0.1075]), Grad : tensor([2.2087e-05, 2.3712e-05]) \n",
      "Loss : -0.032169658690690994 , Params : tensor([0.2110, 0.1073]), Grad : tensor([1.8022e-05, 1.7653e-05]) \n",
      "Loss : -0.03216966614127159 , Params : tensor([0.2109, 0.1071]), Grad : tensor([1.3290e-05, 1.4153e-05]) \n",
      "Loss : -0.03216966986656189 , Params : tensor([0.2108, 0.1070]), Grad : tensor([1.0965e-05, 1.0026e-05]) \n",
      "Loss : -0.03216967359185219 , Params : tensor([0.2107, 0.1069]), Grad : tensor([6.9383e-06, 8.7983e-06]) \n"
     ]
    }
   ],
   "source": [
    "func = ODE(init_params = tc.tensor([0.5, 0.3]), y0=y0)\n",
    "\n",
    "optimizer = tc.optim.Adam(func.parameters(), lr=0.1)\n",
    "\n",
    "losses = []\n",
    "tol = 1e-5\n",
    "g = tc.tensor(1.0)\n",
    "i = 0\n",
    "while g > tol:\n",
    "    optimizer.zero_grad()\n",
    "    l = likelihood(func, data, y0, tspan)\n",
    "    \n",
    "    l.backward()\n",
    "    if i%5==0 : print(\"Loss : {} , Params : {}, Grad : {} \".format(l, func.params.clone().detach(), func.params.grad))\n",
    "    optimizer.step()\n",
    "    g = func.params.grad.square().sum().sqrt()\n",
    "    losses.append(l.clone().detach())\n",
    "    i+=1"
   ]
  },
  {
   "cell_type": "code",
   "execution_count": 23,
   "metadata": {},
   "outputs": [
    {
     "data": {
      "text/plain": [
       "[<matplotlib.lines.Line2D at 0x7fc099b2da60>]"
      ]
     },
     "execution_count": 23,
     "metadata": {},
     "output_type": "execute_result"
    },
    {
     "data": {
      "image/png": "[encoded data removed]",
      "text/plain": [
       "<Figure size 432x288 with 1 Axes>"
      ]
     },
     "metadata": {
      "needs_background": "light"
     },
     "output_type": "display_data"
    }
   ],
   "source": [
    "plt.plot(losses[50:])"
   ]
  },
  {
   "cell_type": "code",
   "execution_count": 24,
   "metadata": {},
   "outputs": [
    {
     "data": {
      "text/plain": [
       "[<matplotlib.lines.Line2D at 0x7fc099c76520>]"
      ]
     },
     "execution_count": 24,
     "metadata": {},
     "output_type": "execute_result"
    },
    {
     "data": {
      "image/png": "[encoded data removed]",
      "text/plain": [
       "<Figure size 432x288 with 1 Axes>"
      ]
     },
     "metadata": {
      "needs_background": "light"
     },
     "output_type": "display_data"
    }
   ],
   "source": [
    "S, I, R, _ = odeint(func, y0, tspan, method='euler').T\n",
    "pred = func.params[0] * S * I / y0[-1]\n",
    "plt.plot(pred.detach())\n",
    "plt.plot(data.clone().detach(), '.', alpha=0.3)"
   ]
  },
  {
   "cell_type": "code",
   "execution_count": null,
   "metadata": {},
   "outputs": [],
   "source": []
  }
 ],
 "metadata": {
  "kernelspec": {
   "display_name": "Python 3.10.6 ('ODEAutodiff')",
   "language": "python",
   "name": "python3"
  },
  "language_info": {
   "codemirror_mode": {
    "name": "ipython",
    "version": 3
   },
   "file_extension": ".py",
   "mimetype": "text/x-python",
   "name": "python",
   "nbconvert_exporter": "python",
   "pygments_lexer": "ipython3",
   "version": "3.10.6"
  },
  "vscode": {
   "interpreter": {
    "hash": "9d9b1ab54ce76eb5c20cb46fa74b57f4d5689344267895880bd96eda7b19c259"
   }
  }
 },
 "nbformat": 4,
 "nbformat_minor": 2
}
